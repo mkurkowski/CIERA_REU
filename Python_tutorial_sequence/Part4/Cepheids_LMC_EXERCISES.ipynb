{
 "cells": [
  {
   "cell_type": "markdown",
   "metadata": {},
   "source": [
    "# Cepheid light curve analysis and the distance to the LMC\n",
    "\n",
    "*Author: Aaron Geller* <br/> *June 2018*"
   ]
  },
  {
   "cell_type": "markdown",
   "metadata": {},
   "source": [
    "### First, some background...\n",
    "\n",
    "*[Cepheids are variable stars](https://en.wikipedia.org/wiki/Classical_Cepheid_variable) that have regular radial pulsations, and therefore brightness variations with periods of a few days to a few weeks. They are 4–20 times more massive than the Sun, and are in the giant evolutionary phase.*\n",
    "\n",
    "*Perhaps the most important feature of a Cepheid is that the period of its pulsations is correlated with its intrinsic luminosity.  This allows us to measure the distance to any Cepheid, simply by measuring the pulsation period and  apparent magnitude.  Cepheids are an important rung on the [cosmic distance ladder](https://en.wikipedia.org/wiki/Cosmic_distance_ladder).*   \n",
    "\n",
    "*[The Optical Gravitational Lensing Experiment (OGLE)](http://ogle.astrouw.edu.pl/) is a time-series photometry survey that has [observed many Cepheids](http://ogle.astrouw.edu.pl/atlas/classical_Cepheids.html) in our neighboring Galaxy the [Large Magellanic Cloud (LMC)](https://en.wikipedia.org/wiki/Large_Magellanic_Cloud).*\n",
    "\n",
    "*In this workshop we will use [Cepheid observations from OGLE](http://ogledb.astrouw.edu.pl/~ogle/CVS/) to measure the distance to the LMC.*\n"
   ]
  },
  {
   "cell_type": "markdown",
   "metadata": {},
   "source": [
    "### Import libraries "
   ]
  },
  {
   "cell_type": "code",
   "execution_count": null,
   "metadata": {
    "collapsed": true
   },
   "outputs": [],
   "source": [
    "import pandas as pd\n",
    "from astropy import units as u\n",
    "import numpy as np\n",
    "from matplotlib import pyplot as plt\n",
    "from astropy.stats import LombScargle\n",
    "from scipy.optimize import curve_fit\n",
    "\n",
    "%matplotlib notebook"
   ]
  },
  {
   "cell_type": "markdown",
   "metadata": {},
   "source": [
    "### Download data from the OGLE cepheid database\n",
    "\n",
    "*Go to the [OGLE archive](http://ogledb.astrouw.edu.pl/~ogle/CVS/).  On the left frame, click on \"Classical Cepheids\".  Then on the query page enter the following:*  \n",
    "\n",
    "\n",
    "\n",
    "\n",
    "|**Parameter**| **Value/Range** ||\n",
    "|:----------|:--------:|:---:|\n",
    "| **RA**   |   5:12:31 | r60 |\n",
    "| **Decl** | -69:12:31 |     |\n",
    "| **Mode** | F         |     |\n",
    "\n",
    "\n",
    "*Then click \"Submit Query\".  Note: you may have to type these values in rather than copy and paste.  This should bring up a page that has a link to the star called \"OGLE-LMC-CEP-1240\".  Download the I-band photometry and save this to a file on your computer.*\n",
    "\n",
    "*Use [pandas.read_csv](https://pandas.pydata.org/pandas-docs/version/0.21/generated/pandas.read_csv.html) to read in this file, and get the date, magnitude and magnitude uncertainty.*"
   ]
  },
  {
   "cell_type": "code",
   "execution_count": null,
   "metadata": {
    "collapsed": true
   },
   "outputs": [],
   "source": [
    "filename = _\n",
    "lc = pd.read_csv(_)\n",
    "\n",
    "jd = np.array(_)\n",
    "mag = np.array(_)\n",
    "mag_unc = np.array(_)\n"
   ]
  },
  {
   "cell_type": "markdown",
   "metadata": {},
   "source": [
    "### Plot the time-series data\n",
    "\n",
    "* *Use [matplotlib.pyplot.errorbar](https://matplotlib.org/api/_as_gen/matplotlib.pyplot.errorbar.html) to plot the time vs. magnitude, showing the uncertainties on magnitude.*\n",
    "* *Label your axes.*\n",
    "* *And remember to make the brightness increase toward the top of your plot!*"
   ]
  },
  {
   "cell_type": "code",
   "execution_count": null,
   "metadata": {
    "collapsed": true
   },
   "outputs": [],
   "source": []
  },
  {
   "cell_type": "markdown",
   "metadata": {},
   "source": [
    "### Calculate and plot the Lomb Scargle periodogram\n",
    "\n",
    "*[Lomb Scargle](https://en.wikipedia.org/wiki/Least-squares_spectral_analysis#The_Lomb%E2%80%93Scargle_periodogram) period analyses essentially fit a sin curve to the data, testing different frequencies and returns the power (i.e., the overlap between the model and data) at each frequency as a measure of goodness of fit.  The higher the power, better that frequency matches the data.*\n",
    "\n",
    "*We will use [astropy.stats.LombScargle](https://docs.astropy.org/en/stable/api/astropy.timeseries.LombScargle.html).  Here the frequency is 1/period, in units of days.*\n",
    "\n",
    "* *Run the Lomb Scargle analysis.* \n",
    "* *Print the period at the highest power (i.e., the best period; hint, you can use [numpy.argmax](https://docs.scipy.org/doc/numpy/reference/generated/numpy.argmax.html) to find the index of the maximum value in an array).*  \n",
    "* *Plot the periodogram (period or frequency vs. power), and mark the best period on your plot.*"
   ]
  },
  {
   "cell_type": "code",
   "execution_count": null,
   "metadata": {
    "collapsed": true
   },
   "outputs": [],
   "source": [
    "pmin = _\n",
    "pmax = _\n",
    "ls = LombScargle(jd, mag, mag_unc)\n",
    "frequency, power = ls.autopower(maximum_frequency=1./pmin, minimum_frequency=1./pmax)\n",
    "best_frequency = _\n",
    "\n",
    "#calculate the best period and print it\n",
    "period = _\n",
    "best_period = _\n",
    "\n",
    "#plot the periodogram\n"
   ]
  },
  {
   "cell_type": "markdown",
   "metadata": {},
   "source": [
    "### Plot the phased light curve\n",
    "\n",
    "*Once the period is determined, it is often helpful to plot the phased light curve.  In other words, we want to fold all the data on the best period.  If the period we derived is indeed the correct period for the system, this phased plot should show all the data lining up along the characteristic shape of a Cepheid variable.*\n",
    "\n",
    "*To calculate the phase, take the observation date modulo the best period, then divide that by the best period.  This should give you a phase from zero to one.*\n",
    "\n",
    "*Plot the phase vs. magnitude, and show the magnitude uncertainties as well.  Again, label your axes, and keep the brightness increasing upwards.*"
   ]
  },
  {
   "cell_type": "code",
   "execution_count": null,
   "metadata": {
    "collapsed": true
   },
   "outputs": [],
   "source": [
    "phase = _"
   ]
  },
  {
   "cell_type": "markdown",
   "metadata": {},
   "source": [
    "## Now we will calculate the distance to the LMC\n",
    "\n",
    "### First, use the Cephied period-luminosity relations to estimate the absolute magnitude in the I band.\n",
    "\n",
    "*Cepheids are known to show a relation between the pulsation period and the intrinsic luminosity (or absolute magnitude).  We will use the equation from [here](http://adsabs.harvard.edu/abs/2007AJ....133.1810B) :*\n",
    "\n",
    "$$\n",
    "M = a + b\\left(\\log_{10} P -1.00\\right)\n",
    "$$ \n",
    "\n",
    "*From their Table 12:*\n",
    "\n",
    "$$\n",
    "a_I = -4.78 \\pm 0.03\\\\ \n",
    "b_I = -2.81 \\pm 0.11\n",
    "$$\n",
    "\n",
    "*Use this formula to estimate the absolute magnitude of this Cepheid.*"
   ]
  },
  {
   "cell_type": "code",
   "execution_count": null,
   "metadata": {
    "collapsed": true
   },
   "outputs": [],
   "source": []
  },
  {
   "cell_type": "markdown",
   "metadata": {},
   "source": [
    "### Next, estimate the apparent magnitude, corrected for extinction\n",
    "\n",
    "*First, we need to get a single number for the observed (i.e., apparent) magnitude.  A simple way to do this is to take the mean of the observed magnitudes.  (A more correct way would be to fit the light curve and take the zero-point value from the fit, but we won't go that deep here.)*\n",
    "\n",
    "*Let's call this mean magnitude $I$, and now we want to correct this for extinction to get $I_0$.  We will use the usual formula:*\n",
    "\n",
    "$$\n",
    "I_0 = I - A_I \\\\\n",
    "A_I/A_V = 0.479\n",
    "$$\n",
    "\n",
    "*where, $A_\\lambda$ is the color index (see [Allen's Astrophysical Quantities](https://books.google.com/books/about/Allen_s_Astrophysical_Quantities.html?id=w8PK2XFLLH8C) ).  And let's take*\n",
    "\n",
    "$$\n",
    "A_V = 0.52\n",
    "$$\n",
    "\n",
    "*as they do in [the reference we used above for the period-luminosity relation](http://adsabs.harvard.edu/abs/2007AJ....133.1810B).*\n",
    "\n",
    "*Calculate $I_0$ below.*\n"
   ]
  },
  {
   "cell_type": "code",
   "execution_count": null,
   "metadata": {
    "collapsed": true
   },
   "outputs": [],
   "source": []
  },
  {
   "cell_type": "markdown",
   "metadata": {},
   "source": [
    "### Now, estimate the distance to the LMC using the distance modulus\n",
    "\n",
    "*The [distance modulus](https://en.wikipedia.org/wiki/Distance_modulus) is defined as :*\n",
    "\n",
    "$$\n",
    "m - M = 5\\log d - 5\n",
    "$$\n",
    "\n",
    "*where $m$ is the apparent magnitude ($I_0$ here), $M$ is the absolute magnitude (calculated above), and $d$ is the distance in parsecs.*\n",
    "\n",
    "*Calculate the distance to the LMC derived from this Cepheid below.*"
   ]
  },
  {
   "cell_type": "code",
   "execution_count": null,
   "metadata": {
    "collapsed": true
   },
   "outputs": [],
   "source": []
  },
  {
   "cell_type": "markdown",
   "metadata": {},
   "source": [
    "### The LMC is at a distance of about 50 kpc\n",
    "\n",
    "*Hopefully that is also roughly what you found above.  If not... check your math.* "
   ]
  },
  {
   "cell_type": "markdown",
   "metadata": {},
   "source": [
    "# Uncertainty on our distance measurement\n",
    "\n",
    "*How would we estimate the uncertainty on this measurement?*\n",
    "\n",
    "*One way would be to propagate the uncertainties through from the fit and the observed magnitudes.  I encourange you to try this after we complete this tutorial.*\n",
    "\n",
    "*But first, a complimentary way to estimate the uncertainty would be to grab a bunch of Cepheids so that we can figure out the scatter.*\n",
    "\n",
    "*Go back to the OGLE database and grab a bunch of Cepheids.  (Hint, you can use a similar query that we used above, but increase the radius, then download the full photometry files in tar.gz format.)  Then calculate their distances using the same procedure as above.  I recommend defining a method that takes a file as input and returns a distance.*"
   ]
  },
  {
   "cell_type": "code",
   "execution_count": null,
   "metadata": {
    "collapsed": true
   },
   "outputs": [],
   "source": [
    "def getDistance(filename, pmin=2, pmax=10):\n",
    "    #read in the data\n",
    "\n",
    "    #get the period\n",
    "\n",
    "    #get the absolute magnitude\n",
    "\n",
    "    #get the apparent magnitude\n",
    "\n",
    "    #correct that for redenning\n",
    "    \n",
    "    #estimate the distance in kpc\n",
    "\n",
    "    #return the distance\n"
   ]
  },
  {
   "cell_type": "code",
   "execution_count": null,
   "metadata": {
    "collapsed": true
   },
   "outputs": [],
   "source": [
    "#use the method you created to get the distance to all the Cepheids you downloaded\n"
   ]
  },
  {
   "cell_type": "markdown",
   "metadata": {},
   "source": [
    "*Plot a histogram of these distance values.*"
   ]
  },
  {
   "cell_type": "code",
   "execution_count": null,
   "metadata": {
    "collapsed": true
   },
   "outputs": [],
   "source": [
    "#hint, pyplot.hist returns the height and bin values from the histogram.  Save these so that you can fit to them later.\n",
    "#e.g., \"h,b, im = ax.hist(_ ...\""
   ]
  },
  {
   "cell_type": "markdown",
   "metadata": {},
   "source": [
    "*We want to quote a single distance and an uncertainty on that distance for the LMC.  How should we do this?*"
   ]
  },
  {
   "cell_type": "markdown",
   "metadata": {},
   "source": [
    "### Calculate the mean and standard error\n",
    "\n",
    "*One method could be to calculate the mean of this distribution of distances and the [standard error of the mean](https://en.wikipedia.org/wiki/Standard_error).  Do this below, and, for practice, print it using [f-strings](https://www.blog.pythonlibrary.org/2018/03/13/python-3-an-intro-to-f-strings/) and showing only two digits after the decimal.*"
   ]
  },
  {
   "cell_type": "code",
   "execution_count": null,
   "metadata": {
    "collapsed": true
   },
   "outputs": [],
   "source": []
  },
  {
   "cell_type": "markdown",
   "metadata": {},
   "source": [
    "### Or, fit a Gaussian function to the distance distribution\n",
    "\n",
    "*Another way that you might derive the distance and an error is to fit a [Guassian function](https://en.wikipedia.org/wiki/Gaussian_function) to this distribution (which is  what you assumed implicitly above by calculating a standard deviation and mean to describe the distribution).*\n",
    "\n",
    "* *Fit this distribution with a Guassian function using [scipy.optimize.curve_fit](https://docs.scipy.org/doc/scipy-1.0.0/reference/generated/scipy.optimize.curve_fit.html).*\n",
    "* *Plot the fit on top of the histogram.*\n"
   ]
  },
  {
   "cell_type": "code",
   "execution_count": null,
   "metadata": {
    "collapsed": true
   },
   "outputs": [],
   "source": [
    "def gauss(x, mu, sigma):\n",
    "    return _\n",
    "\n",
    "popt, pcov = curve_fit(gauss,_,_, p0=[_,_])\n",
    "\n",
    "#plot the histogram again\n",
    "\n",
    "#plot the fit on top\n"
   ]
  },
  {
   "cell_type": "markdown",
   "metadata": {},
   "source": [
    "*Now print the resulting mean and error on the fitted mean value.  Also print the fitted $\\sigma$ value and error.  (Hint: see the documentation for curve_fit, linked above, on how to convert the covariance matrix into an uncertainty.*"
   ]
  },
  {
   "cell_type": "code",
   "execution_count": null,
   "metadata": {
    "collapsed": true
   },
   "outputs": [],
   "source": []
  },
  {
   "cell_type": "markdown",
   "metadata": {},
   "source": [
    "## Take-away questions\n",
    "\n",
    "*Which of these distance values would you quote in a paper?  At least for me, the fit has a smaller error than the standing error on the mean; why?*\n",
    "\n",
    "*How do you interpret the $\\sigma$ value from your fit to the LMC distance distribution?*\n",
    "\n",
    "*If you have outliers, why do you think that is?  (One hint: do all the Cepheids obey the period-luminosity relation we used?)  Could you improve your sample, and therefore your fit?*"
   ]
  },
  {
   "cell_type": "markdown",
   "metadata": {},
   "source": [
    "## Extension activities\n",
    "\n",
    "*Repeat your analysis above for the SMC.* \n",
    "\n",
    "*Then try using RR Lyrae stars do get the distance to the LMC and SMC.*"
   ]
  },
  {
   "cell_type": "markdown",
   "metadata": {},
   "source": [
    "# Bonus: Bokeh interactive plot\n",
    "\n",
    "*[Bokeh](https://bokeh.pydata.org/en/latest/) is a python library that allows you to create interactive plots with widgets (e.g., sliders, buttons, dropdown menus, etc.) to allow you to interactively explore your data.  This can be a useful tool in many cases, and is relatively easy to code up.  I recommend you playing around with it!*\n",
    "\n",
    "*Below is an example that will look at our initial Cephied light curve, and allow you to manipulate the period at which we phase fold the data.*\n",
    "\n",
    "*(For this particular Cepheid, this may not be extremely useful because Lomb Scargle did a great job at identifying the period, but sometimes Lomb Scargle fails, and you may want to look at the phase-folded data from multiple peaks in the periodogram to determine which is truly the best-fit period of the system.)*"
   ]
  },
  {
   "cell_type": "code",
   "execution_count": null,
   "metadata": {
    "collapsed": true
   },
   "outputs": [],
   "source": [
    "from bokeh.plotting import *\n",
    "from bokeh.layouts import row, widgetbox\n",
    "from bokeh.models import ColumnDataSource, CustomJS, Slider\n",
    "from bokeh.events import DoubleTap"
   ]
  },
  {
   "cell_type": "markdown",
   "metadata": {},
   "source": [
    "*This cell below controls whether the demo produces an html file, or simply runs in the notebook*"
   ]
  },
  {
   "cell_type": "code",
   "execution_count": null,
   "metadata": {
    "collapsed": true
   },
   "outputs": [],
   "source": [
    "output_notebook() # run in the notebook\n",
    "#output_file(\"LC_Bokeh_Demo.html\", title='LC Bokeh Demo') # produce an html file"
   ]
  },
  {
   "cell_type": "code",
   "execution_count": null,
   "metadata": {
    "collapsed": true
   },
   "outputs": [],
   "source": [
    "# create a column data source for the plots to share\n",
    "\n",
    "# NOTE: this is using data that you would have created above :\n",
    "# jd, phase, mag == date, phase, and I-band magnitude of the observations of OGLE-LMC-CEP-1240\n",
    "# period, power == period and power from the Lomb Scargle periodogram for OGLE-LMC-CEP-1240\n",
    "# best_period == the period at maximum power from the Lomb Scargle analysis\n",
    "# If you named your variables differently, please change them below\n",
    "\n",
    "# For the light curve\n",
    "mmag = np.mean(mag) - mag\n",
    "LC_source = ColumnDataSource(data=dict(hjd=jd, phase=phase, mag=mmag, ))\n",
    "\n",
    "# For the periodogram\n",
    "P_source = ColumnDataSource(data=dict(period=period, power=power,))\n",
    "\n",
    "# For the best period\n",
    "bpx = np.full(2, best_period)\n",
    "bpy = np.array([0,np.max(power)])\n",
    "BP_source = ColumnDataSource(data=dict(bpx=bpx, bpy=bpy))\n",
    "\n",
    "# define the tools to include\n",
    "TOOLS = \"pan,wheel_zoom,box_zoom, reset\"\n",
    "\n",
    "# create the plots\n",
    "rawLC = figure(tools=TOOLS, width=400, height=200, title=None)\n",
    "rawLC.circle('hjd', 'mag', source=LC_source, color='crimson')\n",
    "rawLC.xaxis.axis_label = \"Days\"\n",
    "rawLC.yaxis.axis_label = \"Brightness\"\n",
    "\n",
    "phaseLC = figure(tools=TOOLS, width=400, height=200, title=None)\n",
    "phaseLC.circle('phase', 'mag', source=LC_source, color='crimson')\n",
    "phaseLC.xaxis.axis_label = \"Phase\"\n",
    "phaseLC.yaxis.axis_label = \"Brightness\"\n",
    "\n",
    "pdgm = figure(tools=TOOLS, width=400, height=200, title=None)#,  x_axis_type=\"log\")\n",
    "pdgm.line('period', 'power', source=P_source, color='steelblue', line_width=1)\n",
    "pdgm.line('bpx', 'bpy', source=BP_source, color='crimson', line_width=3, line_alpha=0.5)\n",
    "pdgm.xaxis.axis_label = \"Period [days]\"\n",
    "pdgm.yaxis.axis_label = \"Power\"\n",
    "\n",
    "# If the user double clicks in the periodogram, print the best period\n",
    "# This code below is javascript, but it looks quite a lot like python.  \n",
    "# So you should be able to interpret it fairly easily.\n",
    "pdgm2clicks = CustomJS(args=dict(LC_source=LC_source, BP_source=BP_source), code=\"\"\"\n",
    "    var best_period = cb_obj.x;\n",
    "\n",
    "    pslider.value = best_period;\n",
    "    pslider.start = best_period/2.;\n",
    "    pslider.end = best_period*2.;\n",
    "        \n",
    "    var LCdata = LC_source.data;\n",
    "    var BPdata = BP_source.data;\n",
    "    var phase = LCdata['phase'];\n",
    "    var hjd = LCdata['hjd'];\n",
    "    for (i = 0; i < phase.length; i++) {\n",
    "       phase[i] = (hjd[i] % best_period) / best_period;\n",
    "    }\n",
    "\n",
    "    var bpx = BPdata['bpx'];\n",
    "    for (i = 0; i < bpx.length; i++) {\n",
    "       bpx[i] = best_period;\n",
    "    }\n",
    "    LC_source.change.emit();\n",
    "    BP_source.change.emit();\n",
    "\"\"\")\n",
    "pdgm.js_on_event(DoubleTap, pdgm2clicks)\n",
    "\n",
    "\n",
    "# define the widgets (also in javascript)\n",
    "sliderCallback = CustomJS(args=dict(LC_source=LC_source, BP_source=BP_source), code=\"\"\"\n",
    "    var best_period = pslider.value;\n",
    "    \n",
    "    var LCdata = LC_source.data;\n",
    "    var BPdata = BP_source.data;\n",
    "    var phase = LCdata['phase'];\n",
    "    var hjd = LCdata['hjd'];\n",
    "    for (i = 0; i < phase.length; i++) {\n",
    "       phase[i] = (hjd[i] % best_period) / best_period;\n",
    "    }\n",
    "\n",
    "    var bpx = BPdata['bpx'];\n",
    "    for (i = 0; i < bpx.length; i++) {\n",
    "       bpx[i] = best_period;\n",
    "    }\n",
    "    LC_source.change.emit();\n",
    "    BP_source.change.emit();\n",
    "\n",
    "\"\"\")\n",
    "\n",
    "# period slider\n",
    "period_slider = Slider(start=best_period/2., end=best_period*2., value=best_period, step=1e-5,\n",
    "                    title=\"Period\", callback=sliderCallback)\n",
    "sliderCallback.args[\"pslider\"] = period_slider\n",
    "pdgm2clicks.args[\"pslider\"] = period_slider\n",
    "\n",
    "# put the subplots in a gridplot\n",
    "w = widgetbox(period_slider, width=200, height=200,)\n",
    "p = gridplot( [ \n",
    "    [rawLC, w], \n",
    "    [phaseLC, None ],\n",
    "    [pdgm, None]])\n",
    "l = row(p)\n",
    "\n",
    "show(l)"
   ]
  },
  {
   "cell_type": "code",
   "execution_count": null,
   "metadata": {
    "collapsed": true
   },
   "outputs": [],
   "source": []
  }
 ],
 "metadata": {
  "kernelspec": {
   "display_name": "Python 3",
   "language": "python",
   "name": "python3"
  },
  "language_info": {
   "codemirror_mode": {
    "name": "ipython",
    "version": 3
   },
   "file_extension": ".py",
   "mimetype": "text/x-python",
   "name": "python",
   "nbconvert_exporter": "python",
   "pygments_lexer": "ipython3",
   "version": "3.6.8"
  }
 },
 "nbformat": 4,
 "nbformat_minor": 1
}
